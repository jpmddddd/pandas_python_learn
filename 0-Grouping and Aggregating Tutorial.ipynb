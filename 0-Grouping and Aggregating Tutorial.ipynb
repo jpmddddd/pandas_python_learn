{
 "cells": [
  {
   "cell_type": "markdown",
   "metadata": {},
   "source": [
    "YTB link: https://www.youtube.com/watch?v=zao608rFswY\n",
    "\n",
    "主要讲讲思路以及groupby的基础。"
   ]
  },
  {
   "cell_type": "markdown",
   "metadata": {},
   "source": [
    "# Data Grouping 和 Data Filtering的区别"
   ]
  },
  {
   "cell_type": "markdown",
   "metadata": {},
   "source": [
    "Filtering：\n",
    "1. 在pandas中通过一些条件，创建一个新的df\n",
    "2. 顺序不会改变\n",
    "3. 没有新数据的添加，只是筛选\n",
    "\n",
    "通常可以通过=赋值，相当于创建了一个过滤器。"
   ]
  },
  {
   "cell_type": "markdown",
   "metadata": {},
   "source": [
    "Grouping: 这就是groupby的使用\n",
    "1. 可以添加新的数据进去\n",
    "2. 根据不同特征编组，以及subgroups，将数据narrow down"
   ]
  },
  {
   "cell_type": "markdown",
   "metadata": {},
   "source": [
    "df.groupby(by='xxx')或者df.groupby(by=['x', 'xx'])决定了\"按什么分组\"，是 groupby 操作的核心。后可接别的函数，比如df.groupby(by='xxx').mean()\n",
    "\n",
    "后面内容就可以接上Keith的groupby部分了。补充用法全部补在了Keith那里的笔记。"
   ]
  }
 ],
 "metadata": {
  "kernelspec": {
   "display_name": "pandas_learn",
   "language": "python",
   "name": "python3"
  },
  "language_info": {
   "name": "python",
   "version": "3.12.8"
  }
 },
 "nbformat": 4,
 "nbformat_minor": 2
}
