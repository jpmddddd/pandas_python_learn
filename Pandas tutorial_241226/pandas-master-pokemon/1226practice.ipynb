{
 "cells": [
  {
   "cell_type": "code",
   "execution_count": null,
   "metadata": {},
   "outputs": [],
   "source": [
    "import pandas as pd\n",
    "\n",
    "df_csv = pd.read_csv('D:\\Github\\pandas_python_learn\\Pandas tutorial_241226\\pandas-master-pokemon\\pokemon_data.csv')\n",
    "\n",
    "print(df_csv)\n",
    "print(df_csv.head(3)) # 只打印前三行\n",
    "print(df_csv.tail(3)) # 只打印后三行"
   ]
  },
  {
   "cell_type": "markdown",
   "metadata": {},
   "source": [
    "这里的df就是data frame，如果csv和这个文件放在同一个文件夹里，就可以在''里不带路径只放文件名；\n",
    "\n",
    "但不知道为啥路径居然不统一，所以报错了，所以这里还是先用完整的绝对路径"
   ]
  },
  {
   "cell_type": "code",
   "execution_count": null,
   "metadata": {},
   "outputs": [],
   "source": [
    "df_xlsx = pd.read_excel('D:\\Github\\pandas_python_learn\\Pandas tutorial_241226\\pandas-master-pokemon\\pokemon_data.xlsx')\n",
    "print(df_xlsx.head(3))"
   ]
  },
  {
   "cell_type": "markdown",
   "metadata": {},
   "source": [
    "同样的，也可以用函数阅读excel文件或者是txt文件"
   ]
  },
  {
   "cell_type": "code",
   "execution_count": null,
   "metadata": {},
   "outputs": [],
   "source": [
    "df_txt_1 = pd.read_csv('D:\\Github\\pandas_python_learn\\Pandas tutorial_241226\\pandas-master-pokemon\\pokemon_data.txt', delimiter='\\t')\n",
    "df_txt_2 = pd.read_csv('D:\\Github\\pandas_python_learn\\Pandas tutorial_241226\\pandas-master-pokemon\\pokemon_data.txt')\n",
    "\n",
    "print(df_txt_1.head(3))\n",
    "print(df_txt_2.head(3))"
   ]
  },
  {
   "cell_type": "markdown",
   "metadata": {},
   "source": [
    "在pandas中没有pd.read_txt这个函数，所以只能用pd.read_csv，可以通过delimiter='\\t'来指定分隔符；\n",
    "\n",
    "也可以不指定分隔符，pandas会自动识别并输出只用\\分隔的结果，但可能会出现问题；\n",
    "\n",
    "分隔符函数，'sep='是'delimiter='的别名，更推荐用sep，因为简单且更常用；\n",
    "\n",
    "比较常见的分隔符示例：'\\t'，';'，','，'|'，':'，' '，'\\s+'，以及任何想要的字符。其中，\\t是tab，\\s+是空格，+表示一个或多个。\n"
   ]
  },
  {
   "cell_type": "code",
   "execution_count": null,
   "metadata": {},
   "outputs": [],
   "source": [
    "print(df_csv.columns)  # 打印所有列名or表头"
   ]
  },
  {
   "cell_type": "code",
   "execution_count": 9,
   "metadata": {},
   "outputs": [
    {
     "name": "stdout",
     "output_type": "stream",
     "text": [
      "0                  Bulbasaur\n",
      "1                    Ivysaur\n",
      "2                   Venusaur\n",
      "3      VenusaurMega Venusaur\n",
      "4                 Charmander\n",
      "               ...          \n",
      "795                  Diancie\n",
      "796      DiancieMega Diancie\n",
      "797      HoopaHoopa Confined\n",
      "798       HoopaHoopa Unbound\n",
      "799                Volcanion\n",
      "Name: Name, Length: 800, dtype: object\n"
     ]
    }
   ],
   "source": [
    "print(df_csv['Name'])  # 打印特定的某一列数据，比如名字"
   ]
  }
 ],
 "metadata": {
  "kernelspec": {
   "display_name": "pandas_learn",
   "language": "python",
   "name": "python3"
  },
  "language_info": {
   "codemirror_mode": {
    "name": "ipython",
    "version": 3
   },
   "file_extension": ".py",
   "mimetype": "text/x-python",
   "name": "python",
   "nbconvert_exporter": "python",
   "pygments_lexer": "ipython3",
   "version": "3.12.8"
  }
 },
 "nbformat": 4,
 "nbformat_minor": 2
}
