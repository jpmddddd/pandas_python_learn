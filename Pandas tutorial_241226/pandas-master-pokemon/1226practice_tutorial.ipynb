{
 "cells": [
  {
   "cell_type": "markdown",
   "metadata": {},
   "source": [
    "# Loading data to the pandas"
   ]
  },
  {
   "cell_type": "code",
   "execution_count": null,
   "metadata": {},
   "outputs": [],
   "source": [
    "import pandas as pd\n",
    "\n",
    "df_csv = pd.read_csv('D:\\Github\\pandas_python_learn\\Pandas tutorial_241226\\pandas-master-pokemon\\pokemon_data.csv')\n",
    "\n",
    "print(df_csv)\n",
    "print(df_csv.head(3)) # 只打印前三行\n",
    "print(df_csv.tail(3)) # 只打印后三行"
   ]
  },
  {
   "cell_type": "markdown",
   "metadata": {},
   "source": [
    "第一步，导入，也就是读取数据。\n",
    "\n",
    "这里的df就是data frame，如果csv和这个文件放在同一个文件夹里，就可以在''里不带路径只放文件名；\n",
    "\n",
    "但不知道为啥路径居然不统一，所以报错了，所以这里还是先用完整的绝对路径"
   ]
  },
  {
   "cell_type": "code",
   "execution_count": null,
   "metadata": {},
   "outputs": [],
   "source": [
    "df_xlsx = pd.read_excel('D:\\Github\\pandas_python_learn\\Pandas tutorial_241226\\pandas-master-pokemon\\pokemon_data.xlsx')\n",
    "print(df_xlsx.head(3))"
   ]
  },
  {
   "cell_type": "markdown",
   "metadata": {},
   "source": [
    "同样的，也可以用函数阅读excel文件或者是txt文件"
   ]
  },
  {
   "cell_type": "code",
   "execution_count": null,
   "metadata": {},
   "outputs": [],
   "source": [
    "df_txt_1 = pd.read_csv('D:\\Github\\pandas_python_learn\\Pandas tutorial_241226\\pandas-master-pokemon\\pokemon_data.txt', delimiter='\\t')\n",
    "df_txt_2 = pd.read_csv('D:\\Github\\pandas_python_learn\\Pandas tutorial_241226\\pandas-master-pokemon\\pokemon_data.txt')\n",
    "\n",
    "print(df_txt_1.head(3))\n",
    "print(df_txt_2.head(3))"
   ]
  },
  {
   "cell_type": "markdown",
   "metadata": {},
   "source": [
    "在pandas中没有pd.read_txt这个函数，所以只能用pd.read_csv，可以通过delimiter='\\t'来指定分隔符；\n",
    "\n",
    "也可以不指定分隔符，pandas会自动识别并输出只用\\分隔的结果，但可能会出现问题；\n",
    "\n",
    "分隔符函数，'sep='是'delimiter='的别名，更推荐用sep，因为简单且更常用；\n",
    "\n",
    "比较常见的分隔符示例：'\\t'，';'，','，'|'，':'，' '，'\\s+'，以及任何想要的字符。其中，\\t是tab，\\s+是空格，+表示一个或多个。\n"
   ]
  },
  {
   "cell_type": "code",
   "execution_count": null,
   "metadata": {},
   "outputs": [],
   "source": [
    "print(df_csv.columns)  # 打印所有列名or表头\n",
    "print(df_csv['Name'])  # 打印特定的某一列数据，比如名字\n",
    "print(df_csv.Name)  # 打印全列的另一种方式，但不推荐，有可能和函数名冲突"
   ]
  },
  {
   "cell_type": "code",
   "execution_count": null,
   "metadata": {},
   "outputs": [],
   "source": [
    "print(df_csv['Name'][0:5])  # 打印某一列特定区域的内容\n",
    "print(df_csv['Name'][1:5])  # 看看从0开始和从1开始有什么区别"
   ]
  },
  {
   "cell_type": "code",
   "execution_count": null,
   "metadata": {},
   "outputs": [],
   "source": [
    "print(df_csv[['Name', 'Type 1', 'HP']])  # 打印多列数据"
   ]
  },
  {
   "cell_type": "markdown",
   "metadata": {},
   "source": [
    "以上是按列打印的不同方式和函数。\n",
    "以下则是按行打印。"
   ]
  },
  {
   "cell_type": "code",
   "execution_count": null,
   "metadata": {},
   "outputs": [],
   "source": [
    "print(df_csv.head(4))  # 打印前四行的所有列（开头已经有过了）"
   ]
  },
  {
   "cell_type": "code",
   "execution_count": null,
   "metadata": {},
   "outputs": [],
   "source": [
    "print(df_csv.iloc[0])  # 打印第0行（也就是第一个），相当于调出某个pokemon的所有信息"
   ]
  },
  {
   "cell_type": "code",
   "execution_count": null,
   "metadata": {},
   "outputs": [],
   "source": [
    "print(df_csv.iloc[0:5])  # 打印特定范围的行\n",
    "print(df_csv.iloc[1,1])  # 打印某个具体的数据"
   ]
  },
  {
   "cell_type": "code",
   "execution_count": null,
   "metadata": {},
   "outputs": [],
   "source": [
    "for index, row in df_csv.iterrows():\n",
    "    print(index, row['Name'])  # 打印所有的名字"
   ]
  },
  {
   "cell_type": "markdown",
   "metadata": {},
   "source": [
    "以上这段只适合打印整列，如果要打印特定行范围或者更多，则需要加入对index进行限定的if语句；对于大数据集如果只用这个功能，copilot推荐用iloc或者loc，更高效。\n",
    "\n",
    "iterrows是iterate（迭代）和rows（行）的组合。\n",
    "index是指行索引，row是当前行数据，相当于是没有筛选index，然后输出某特定列比如Name。\n",
    "但iterrows的一些别的语句貌似很好用，只是这里实用度一般。"
   ]
  },
  {
   "cell_type": "code",
   "execution_count": null,
   "metadata": {},
   "outputs": [],
   "source": [
    "df_csv.loc[df_csv['Type 1'] == 'Fire']  # 打印所有Type 1是Fire的行"
   ]
  },
  {
   "cell_type": "markdown",
   "metadata": {},
   "source": [
    "【标签】loc是location的缩写。通常更慢。切片包含终点，比如df.loc[0:3]包含索引0,1,2,3\n",
    "\n",
    "【位置，效率up】iloc是integer location的缩写，integer代表整数，适用于标签是整数。更高效，切片不包含终点，比如df.iloc[0:3]只包含0,1,2"
   ]
  },
  {
   "cell_type": "code",
   "execution_count": null,
   "metadata": {},
   "outputs": [],
   "source": [
    "df_csv.describe()  # 打印所有数值列的统计数据，比如最小最大值，平均值等"
   ]
  },
  {
   "cell_type": "code",
   "execution_count": null,
   "metadata": {},
   "outputs": [],
   "source": [
    "df_csv.sort_values('Name')  # 按照名字排序，默认正序\n",
    "df_csv.sort_values('Name', ascending=False)  # 按照名字排序，但是是倒序"
   ]
  },
  {
   "cell_type": "code",
   "execution_count": null,
   "metadata": {},
   "outputs": [],
   "source": [
    "df_csv.sort_values(['Type 1', 'HP'], ascending=[1, 0])  # 按照Type 1正序，HP倒序排序"
   ]
  },
  {
   "cell_type": "markdown",
   "metadata": {},
   "source": [
    "1即为True，0即为False；但这条对于筛选Legendary不管用。"
   ]
  },
  {
   "cell_type": "markdown",
   "metadata": {},
   "source": [
    "# Making changes to the data"
   ]
  },
  {
   "cell_type": "code",
   "execution_count": null,
   "metadata": {},
   "outputs": [],
   "source": [
    "df_csv['Total'] = df_csv['HP'] + df_csv['Attack'] + df_csv['Defense'] + df_csv['Sp. Atk'] + df_csv['Sp. Def'] + df_csv['Speed']\n",
    "\n",
    "df_csv.head(5)"
   ]
  },
  {
   "cell_type": "markdown",
   "metadata": {},
   "source": [
    "这里Keith建议结果出来之后自己再手动挑一行复核一遍加减法，以免后续出错。"
   ]
  },
  {
   "cell_type": "code",
   "execution_count": null,
   "metadata": {},
   "outputs": [],
   "source": [
    "39+52+43+60+50+65 # 加法复核"
   ]
  },
  {
   "cell_type": "markdown",
   "metadata": {},
   "source": [
    "如果想要删除掉数据集中的某一列，则可以用以下方式。这里把刚刚加上的Total列再删除。"
   ]
  },
  {
   "cell_type": "code",
   "execution_count": null,
   "metadata": {},
   "outputs": [],
   "source": [
    "df_csv = df_csv.drop(columns=['Total'])  # 删除total列\n",
    "df_csv.head(5)  # 注意这一步才是打印！"
   ]
  },
  {
   "cell_type": "code",
   "execution_count": null,
   "metadata": {},
   "outputs": [],
   "source": [
    "df_csv['Total'] = df_csv.iloc[:, 4:10].sum(axis=1)\n",
    "\n",
    "df_csv.head(5)"
   ]
  },
  {
   "cell_type": "markdown",
   "metadata": {},
   "source": [
    "对等式右边的拆解：\n",
    "\n",
    "1. df.iloc[1,3]的输出结果是1,2（就是输出第2，3列）。所以要输出第5-10列就是[4:10]：思考逻辑就是区间整体左移一单位，然后右端点再向右多一个单位。\n",
    "2. [:, x:xx]中，冒号的含义在于把范围内的全部数据加起来。\n",
    "3. sum函数后面，axis=1意味着是按水平加总；如果是垂直则是axis=0。"
   ]
  },
  {
   "cell_type": "code",
   "execution_count": null,
   "metadata": {},
   "outputs": [],
   "source": [
    "45+49+49+65+65+45  # 别忘了复核"
   ]
  },
  {
   "cell_type": "code",
   "execution_count": null,
   "metadata": {},
   "outputs": [],
   "source": [
    "cols = list(df_csv.columns)\n",
    "df_csv = df_csv[cols[0:4] + [cols[-1]] + cols[4:12]]\n",
    "\n",
    "df_csv.head(5)"
   ]
  },
  {
   "cell_type": "markdown",
   "metadata": {},
   "source": [
    "这段keith自己也承认了比较tricky，如果不想出错，还是可以像上一个办法一样，老老实实加起来。\n",
    "\n",
    "如果出现了legendary跑到前面的情况，说明前面有代码块没跑，导致出错，全部跑一遍就行了。\n",
    "\n",
    "csv等式这行的数字tips：\n",
    "1. 先确认要把Total插到哪里来，从这里分段。确认了在第4和5列中间插入Total，所以分成[0:4]和[4:12]\n",
    "2. Total是最后一列所以用-1，这是负序列的表达方式\n",
    "3. 由于cols[-1]是一列，代表着一整个字符串而不是一个范围，而对于单个字符串还需要[]框起来，所以也就是[cols[-1]]"
   ]
  },
  {
   "cell_type": "markdown",
   "metadata": {},
   "source": [
    "# 三种文件的导出，无index干扰"
   ]
  },
  {
   "cell_type": "code",
   "execution_count": null,
   "metadata": {},
   "outputs": [],
   "source": [
    "df_csv.to_csv('D:\\Github\\pandas_python_learn\\Pandas tutorial_241226\\pandas-master-pokemon\\modified-1.csv', index=False)\n",
    "df_csv.to_excel('D:\\Github\\pandas_python_learn\\Pandas tutorial_241226\\pandas-master-pokemon\\modified-2.xlsx', index=False)\n",
    "df_csv.to_csv('D:\\Github\\pandas_python_learn\\Pandas tutorial_241226\\pandas-master-pokemon\\modified-3.txt', index=False, sep='\\t')"
   ]
  },
  {
   "cell_type": "markdown",
   "metadata": {},
   "source": [
    "想要排除index的干扰，把index的值设置成false就行了。\n",
    "\n",
    "对于txt文件记得加分隔符，比如tab，不然输出的就是一整坨）\n",
    "\n",
    "另外，没有to_txt函数，只有to_csv函数，但输出的文件后缀是txt就可以了。\n",
    "\n",
    "CSV和XLSX文件的区别：\n",
    "1. csv类似txt，属于无格式纯文本，单表\n",
    "2. xlsx可以格式化，这次输出的表头就是加粗了的。可多表，且体积较大"
   ]
  }
 ],
 "metadata": {
  "kernelspec": {
   "display_name": "pandas_learn",
   "language": "python",
   "name": "python3"
  },
  "language_info": {
   "codemirror_mode": {
    "name": "ipython",
    "version": 3
   },
   "file_extension": ".py",
   "mimetype": "text/x-python",
   "name": "python",
   "nbconvert_exporter": "python",
   "pygments_lexer": "ipython3",
   "version": "3.12.8"
  }
 },
 "nbformat": 4,
 "nbformat_minor": 2
}
