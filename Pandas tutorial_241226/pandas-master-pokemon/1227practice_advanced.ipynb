{
 "cells": [
  {
   "cell_type": "code",
   "execution_count": null,
   "metadata": {},
   "outputs": [],
   "source": [
    "import pandas as pd\n",
    "\n",
    "df_csv = pd.read_csv('D:\\Github\\pandas_python_learn\\Pandas tutorial_241226\\pandas-master-pokemon\\pokemon_data.csv')"
   ]
  },
  {
   "cell_type": "code",
   "execution_count": null,
   "metadata": {},
   "outputs": [],
   "source": [
    "df_csv['Total'] = df_csv.iloc[:, 4:10].sum(axis=1)\n",
    "\n",
    "df_csv.head(5)"
   ]
  },
  {
   "cell_type": "code",
   "execution_count": null,
   "metadata": {},
   "outputs": [],
   "source": [
    "cols = list(df_csv.columns)\n",
    "df_csv = df_csv[cols[0:4] + [cols[-1]] + cols[4:12]]\n",
    "\n",
    "df_csv.head(5)"
   ]
  },
  {
   "cell_type": "markdown",
   "metadata": {},
   "source": [
    "# Filtering Data"
   ]
  },
  {
   "cell_type": "markdown",
   "metadata": {},
   "source": [
    "一个等号=和两个等号==的区别:\n",
    "1. 一个等号=用于赋值，表示将一个值赋给一个变量\n",
    "2. 两个等号==用于比较两个值是否相等\n",
    "3. 甚至有三个等号===用于比较两个值是否相等，并且类型也要相同"
   ]
  },
  {
   "cell_type": "code",
   "execution_count": null,
   "metadata": {},
   "outputs": [],
   "source": [
    "df_csv.loc[df_csv['Type 1'] == 'Water']\n",
    "\n",
    "df_csv.loc[(df_csv['Type 1'] == 'Water') & (df_csv['Type 2'] == 'Poison')]"
   ]
  },
  {
   "cell_type": "code",
   "execution_count": null,
   "metadata": {},
   "outputs": [],
   "source": [
    "df_csv.loc[(df_csv['Type 1'] == 'Water') | (df_csv['Type 2'] == 'Poison')]"
   ]
  },
  {
   "cell_type": "code",
   "execution_count": null,
   "metadata": {},
   "outputs": [],
   "source": [
    "df_csv.loc[(df_csv['Type 1'] == 'Water') & (df_csv['HP'] >= 100)]"
   ]
  },
  {
   "cell_type": "markdown",
   "metadata": {},
   "source": [
    "一般在python中都是用and或者or，但pandas库中的习惯一般是用&替代and，用|替代or。\n",
    "\n",
    "碰到and或者or链接的多个比较值等式，记得将每个独立的等式用()框起来。"
   ]
  },
  {
   "cell_type": "code",
   "execution_count": 8,
   "metadata": {},
   "outputs": [],
   "source": [
    "new_df_csv = df_csv.loc[(df_csv['Type 1'] == 'Water') & (df_csv['HP'] >= 100)]\n",
    "\n",
    "new_df_csv.to_csv(r'D:\\Github\\pandas_python_learn\\Pandas tutorial_241226\\pandas-master-pokemon\\filtered-WaterHighHP.csv', index=False)"
   ]
  },
  {
   "cell_type": "markdown",
   "metadata": {},
   "source": [
    "注意正斜杠，反斜杠以及双反斜杠的用法。\n",
    "1. 正斜杠：/\n",
    "2. 反斜杠：\\ 单个反斜杠 \\f 会被解释为转义字符。用r前缀或用正斜杠or双反斜杠，可以避免转义问题。\n",
    "3. 双反斜杠：\\\\\n",
    "\n",
    "如果担心斜杠问题，可以在'路径'前加一个r，就变成了原始字符串，就没有这样的问题了。这是最简单的解决方式，或者用正斜或者双反。\n",
    "从：('D:\\Github\\pandas_python_learn\\Pandas tutorial_241226\\pandas-master-pokemon\\filtered-WaterHighHP.csv')变成(r'D:\\Github\\pandas_python_learn\\Pandas tutorial_241226\\pandas-master-pokemon\\filtered-WaterHighHP.csv')"
   ]
  },
  {
   "cell_type": "markdown",
   "metadata": {},
   "source": [
    "但当执行上上条的df_csv.loc函数时，可以发现新的index和旧的index不一样，但两者会同时显示（旧的直接变成了index列），同时还有数据原本的序号。这会造成混乱，需要对index进行reset。"
   ]
  },
  {
   "cell_type": "code",
   "execution_count": null,
   "metadata": {},
   "outputs": [],
   "source": [
    "new_df_csv.reset_index(drop=True)"
   ]
  },
  {
   "cell_type": "markdown",
   "metadata": {},
   "source": [
    "keith还在drop后面加了个inplace=True，也就是：\n",
    "new_df_csv.reset_index(drop=True, inplace=True)\n",
    "这里没加因为怕这里改好的数据后面会用。使用情况：\n",
    "1. inplace=True说明是直接在原数据上修改，不返回新的副本，所以操作完还需要print才能看到结果；而inplace=False（也就是默认）是马上返回修改后的新副本，原数据不变。\n",
    "2. 所以需要保留原始数据时（比如链式操作），不使用inplace，需要对内存进行优化的时候再使用。"
   ]
  },
  {
   "cell_type": "code",
   "execution_count": null,
   "metadata": {},
   "outputs": [],
   "source": [
    "df_csv.loc[df_csv['Name'].str.contains('Mega')]\n",
    "# 筛选出Name中带有'Mega'字符串的数据"
   ]
  },
  {
   "cell_type": "code",
   "execution_count": null,
   "metadata": {},
   "outputs": [],
   "source": [
    "df_csv.loc[~df_csv['Name'].str.contains('Mega')]\n",
    "# 注意波浪号~的使用，表示取反，也就是不含'Mega'的数据"
   ]
  },
  {
   "cell_type": "markdown",
   "metadata": {},
   "source": [
    "另外，根据Jupyter Notebook的交互机制，有些函数运行后可能会返回结果，这并不是真正的结果！并不是实际运行中会打印出来的“显性”结果！\n",
    "\n",
    "这里显示只是因为Jupyter的特性，会自动显示每个cell最后一个表达式的返回值。\n",
    "\n",
    "如果要确保看到结果，一定要打print，这才是“显性”结果。"
   ]
  },
  {
   "cell_type": "code",
   "execution_count": null,
   "metadata": {},
   "outputs": [],
   "source": [
    "df_csv.loc[df_csv['Type 1'].str.contains('Fire|Grass')]"
   ]
  },
  {
   "cell_type": "markdown",
   "metadata": {},
   "source": [
    "注意and和or在pandas中的使用。"
   ]
  },
  {
   "cell_type": "markdown",
   "metadata": {},
   "source": [
    "# Conditional Changes"
   ]
  },
  {
   "cell_type": "code",
   "execution_count": 13,
   "metadata": {},
   "outputs": [],
   "source": [
    "df_csv.loc[df_csv['Type 1'] == 'Fire', 'Type 1'] = 'Flamer'\n",
    "\n",
    "df_csv.head(10)\n",
    "\n",
    "df_csv.loc[df_csv['Type 1'] == 'Flamer', 'Type 1'] = 'Fire'"
   ]
  },
  {
   "cell_type": "markdown",
   "metadata": {},
   "source": [
    "这段是把Type 1中原本的Fire改成Flamer，后面又把Flamer改成Fire。以下是把所有火系宝可梦的Legendary都改成True的一段。"
   ]
  },
  {
   "cell_type": "code",
   "execution_count": 14,
   "metadata": {},
   "outputs": [],
   "source": [
    "df_csv.loc[df_csv['Type 1'] == 'Fire', 'Legendary'] = True\n",
    "# 记住 = 是赋值，而 == 是判断\n",
    "\n",
    "df = pd.read_csv('modified-1.csv') # 这里是对表格数据重置"
   ]
  },
  {
   "cell_type": "code",
   "execution_count": null,
   "metadata": {},
   "outputs": [],
   "source": [
    "df.loc[df['Total'] > 500, ['Generation', 'Legendary']] = 'TEST VALUE'\n",
    "# 可以对多列数据进行相同赋值\n",
    "\n",
    "df.loc[df['Total'] > 500, ['Generation', 'Legendary']] = ['Test 1', 'Test 2']\n",
    "# 也可以对一定条件下的，多列数据进行不同赋值\n",
    "# 注意[]的使用，第一个[]是对条件进行筛选，第二个[]是对列进行筛选\n",
    "\n",
    "df = pd.read_csv('modified-1.csv')"
   ]
  },
  {
   "cell_type": "markdown",
   "metadata": {},
   "source": [
    "# Aggregate Statistics (Groupby)"
   ]
  },
  {
   "cell_type": "markdown",
   "metadata": {},
   "source": [
    "根据Type 1而对所有pokemon分组，并查看每个组别的平均体力和攻击。"
   ]
  },
  {
   "cell_type": "code",
   "execution_count": null,
   "metadata": {},
   "outputs": [],
   "source": [
    "df = pd.read_csv('modified-1.csv')\n",
    "\n",
    "df.groupby(['Type 1']).mean(numeric_only=True)"
   ]
  },
  {
   "cell_type": "markdown",
   "metadata": {},
   "source": [
    "这里mean里面记得加一个numeric_only=True，限定只处理数值列。不然可能会报错。"
   ]
  },
  {
   "cell_type": "code",
   "execution_count": null,
   "metadata": {},
   "outputs": [],
   "source": [
    "df.groupby(['Type 1']).mean(numeric_only=True).sort_values('Speed', ascending=False)\n",
    "# 对不同属性的宝可梦根据不同值进行降序排列，高的在前面。"
   ]
  },
  {
   "cell_type": "code",
   "execution_count": null,
   "metadata": {},
   "outputs": [],
   "source": [
    "df.groupby(['Type 1']).count()"
   ]
  },
  {
   "cell_type": "markdown",
   "metadata": {},
   "source": [
    "groupby中count函数的使用：\n",
    "按Type 1，也就是元素来进行分类，然后来看每列中每个对应元素都占了多少个。"
   ]
  },
  {
   "cell_type": "code",
   "execution_count": null,
   "metadata": {},
   "outputs": [],
   "source": [
    "df.groupby('Type 1').size()"
   ]
  },
  {
   "cell_type": "markdown",
   "metadata": {},
   "source": [
    "size和count的区别：\n",
    "\n",
    "1. count是对每一列都进行单独计数；但size是只返回一个标量值，因此只运用于某一特定列及其元素个数统计。\n",
    "2. count是返回组中非NA/null值的数量，size则是返回组中的总元素个数。因此size计算速度更快，更节约性能。\n",
    "3. 因此size适合只需要知道组的大小，count适合知道每列中非空值的数量。\n",
    "4. size函数可以进行多列数据的分组统计，但是count函数只能对单列数据进行统计，比如下文。"
   ]
  },
  {
   "cell_type": "code",
   "execution_count": null,
   "metadata": {},
   "outputs": [],
   "source": [
    "df.groupby(['Type 1', 'Type 2']).size()\n",
    "# 这里Type 2是Type 1的子属性，并且同样也是按字母进行排序的"
   ]
  },
  {
   "cell_type": "code",
   "execution_count": null,
   "metadata": {},
   "outputs": [],
   "source": []
  }
 ],
 "metadata": {
  "kernelspec": {
   "display_name": "pandas_learn",
   "language": "python",
   "name": "python3"
  },
  "language_info": {
   "codemirror_mode": {
    "name": "ipython",
    "version": 3
   },
   "file_extension": ".py",
   "mimetype": "text/x-python",
   "name": "python",
   "nbconvert_exporter": "python",
   "pygments_lexer": "ipython3",
   "version": "3.12.8"
  }
 },
 "nbformat": 4,
 "nbformat_minor": 2
}
