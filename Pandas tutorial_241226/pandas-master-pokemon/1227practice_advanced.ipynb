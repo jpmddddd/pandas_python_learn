{
 "cells": [
  {
   "cell_type": "code",
   "execution_count": null,
   "metadata": {},
   "outputs": [],
   "source": [
    "import pandas as pd\n",
    "\n",
    "df_csv = pd.read_csv('D:\\Github\\pandas_python_learn\\Pandas tutorial_241226\\pandas-master-pokemon\\pokemon_data.csv')"
   ]
  },
  {
   "cell_type": "code",
   "execution_count": null,
   "metadata": {},
   "outputs": [],
   "source": [
    "df_csv['Total'] = df_csv.iloc[:, 4:10].sum(axis=1)\n",
    "\n",
    "df_csv.head(5)"
   ]
  },
  {
   "cell_type": "code",
   "execution_count": null,
   "metadata": {},
   "outputs": [],
   "source": [
    "cols = list(df_csv.columns)\n",
    "df_csv = df_csv[cols[0:4] + [cols[-1]] + cols[4:12]]\n",
    "\n",
    "df_csv.head(5)"
   ]
  },
  {
   "cell_type": "markdown",
   "metadata": {},
   "source": [
    "# Filtering Data"
   ]
  },
  {
   "cell_type": "markdown",
   "metadata": {},
   "source": [
    "一个等号=和两个等号==的区别:\n",
    "1. 一个等号=用于赋值，表示将一个值赋给一个变量\n",
    "2. 两个等号==用于比较两个值是否相等\n",
    "3. 甚至有三个等号===用于比较两个值是否相等，并且类型也要相同"
   ]
  },
  {
   "cell_type": "code",
   "execution_count": null,
   "metadata": {},
   "outputs": [],
   "source": [
    "df_csv.loc[df_csv['Type 1'] == 'Water']\n",
    "\n",
    "df_csv.loc[(df_csv['Type 1'] == 'Water') & (df_csv['Type 2'] == 'Poison')]"
   ]
  },
  {
   "cell_type": "code",
   "execution_count": null,
   "metadata": {},
   "outputs": [],
   "source": [
    "df_csv.loc[(df_csv['Type 1'] == 'Water') | (df_csv['Type 2'] == 'Poison')]"
   ]
  },
  {
   "cell_type": "code",
   "execution_count": null,
   "metadata": {},
   "outputs": [],
   "source": [
    "df_csv.loc[(df_csv['Type 1'] == 'Water') & (df_csv['HP'] >= 100)]"
   ]
  },
  {
   "cell_type": "markdown",
   "metadata": {},
   "source": [
    "一般在python中都是用and或者or，但pandas库中的习惯一般是用&替代and，用|替代or。\n",
    "\n",
    "碰到and或者or链接的多个比较值等式，记得将每个独立的等式用()框起来。"
   ]
  },
  {
   "cell_type": "code",
   "execution_count": 38,
   "metadata": {},
   "outputs": [],
   "source": [
    "new_df_csv = df_csv.loc[(df_csv['Type 1'] == 'Water') & (df_csv['HP'] >= 100)]\n",
    "\n",
    "new_df_csv.to_csv(r'D:\\Github\\pandas_python_learn\\Pandas tutorial_241226\\pandas-master-pokemon\\filtered-WaterHighHP.csv', index=False)"
   ]
  },
  {
   "cell_type": "markdown",
   "metadata": {},
   "source": [
    "注意正斜杠，反斜杠以及双反斜杠的用法。\n",
    "1. 正斜杠：/\n",
    "2. 反斜杠：\\ 单个反斜杠 \\f 会被解释为转义字符。用r前缀或用正斜杠or双反斜杠，可以避免转义问题。\n",
    "3. 双反斜杠：\\\\\n",
    "\n",
    "如果担心斜杠问题，可以在'路径'前加一个r，就变成了原始字符串，就没有这样的问题了。这是最简单的解决方式，或者用正斜或者双反。\n",
    "从：('D:\\Github\\pandas_python_learn\\Pandas tutorial_241226\\pandas-master-pokemon\\filtered-WaterHighHP.csv')变成(r'D:\\Github\\pandas_python_learn\\Pandas tutorial_241226\\pandas-master-pokemon\\filtered-WaterHighHP.csv')"
   ]
  },
  {
   "cell_type": "markdown",
   "metadata": {},
   "source": [
    "但当执行上上条的df_csv.loc函数时，可以发现新的index和旧的index不一样，但两者会同时显示（旧的直接变成了index列），同时还有数据原本的序号。这会造成混乱，需要对index进行reset。"
   ]
  },
  {
   "cell_type": "code",
   "execution_count": null,
   "metadata": {},
   "outputs": [],
   "source": [
    "new_df_csv.reset_index(drop=True)"
   ]
  },
  {
   "cell_type": "markdown",
   "metadata": {},
   "source": [
    "keith还在drop后面加了个inplace=True，也就是：\n",
    "new_df_csv.reset_index(drop=True, inplace=True)\n",
    "这里没加因为怕这里改好的数据后面会用。这里说明一下使用情况：\n",
    "1. inplace=True说明是直接在原数据上修改，不返回新的副本，所以操作完还需要print才能看到结果；而inplace=False（也就是默认）是马上返回修改后的新副本，原数据不变。\n",
    "2. 所以需要保留原始数据时（比如链式操作），不使用inplace，需要对内存进行优化的时候再使用。"
   ]
  },
  {
   "cell_type": "code",
   "execution_count": null,
   "metadata": {},
   "outputs": [],
   "source": [
    "df_csv.loc[df_csv['Name'].str.contains('Mega')]\n",
    "# 筛选出Name中带有'Mega'字符串的数据"
   ]
  },
  {
   "cell_type": "code",
   "execution_count": null,
   "metadata": {},
   "outputs": [],
   "source": [
    "df_csv.loc[~df_csv['Name'].str.contains('Mega')]\n",
    "# 注意波浪号~的使用，表示取反，也就是不含'Mega'的数据"
   ]
  },
  {
   "cell_type": "markdown",
   "metadata": {},
   "source": [
    "另外，根据Jupyter Notebook的交互机制，有些函数运行后可能会返回结果，这并不是真正的结果！并不是实际运行中会打印出来的“显性”结果！\n",
    "\n",
    "这里显示只是因为Jupyter的特性，会自动显示每个cell最后一个表达式的返回值。\n",
    "\n",
    "如果要确保看到结果，一定要打print，这才是“显性”结果。"
   ]
  }
 ],
 "metadata": {
  "kernelspec": {
   "display_name": "pandas_learn",
   "language": "python",
   "name": "python3"
  },
  "language_info": {
   "codemirror_mode": {
    "name": "ipython",
    "version": 3
   },
   "file_extension": ".py",
   "mimetype": "text/x-python",
   "name": "python",
   "nbconvert_exporter": "python",
   "pygments_lexer": "ipython3",
   "version": "3.12.8"
  }
 },
 "nbformat": 4,
 "nbformat_minor": 2
}
